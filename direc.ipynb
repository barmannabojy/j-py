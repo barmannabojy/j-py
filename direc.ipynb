{
 "cells": [
  {
   "cell_type": "markdown",
   "id": "1aa75f26-b0c3-4124-b3aa-3013a68c5ca0",
   "metadata": {},
   "source": [
    "# data set"
   ]
  },
  {
   "cell_type": "code",
   "execution_count": 6,
   "id": "8544ebc6-9206-4e8c-801b-4ec3bba18771",
   "metadata": {},
   "outputs": [
    {
     "name": "stdout",
     "output_type": "stream",
     "text": [
      "2.3.1\n",
      "      org  passing\n",
      "0  people        2\n",
      "1  monkey        3\n",
      "2    fish        4\n"
     ]
    }
   ],
   "source": [
    "import pandas as pd\n",
    "print(pd.__version__)\n",
    "mydataset={\n",
    "    'org':[\"people\",\"monkey\",\"fish\"],\n",
    "    'passing':[2,3,4]\n",
    "}\n",
    "myvar=pd.DataFrame(mydataset)\n",
    "print(myvar)"
   ]
  },
  {
   "cell_type": "markdown",
   "id": "6084e0d5-2542-463f-8006-067c8c460402",
   "metadata": {},
   "source": [
    "# pandas series from dic"
   ]
  },
  {
   "cell_type": "code",
   "execution_count": 7,
   "id": "ba91fbea-1818-45d6-a286-94c4e68e0e5e",
   "metadata": {},
   "outputs": [
    {
     "name": "stdout",
     "output_type": "stream",
     "text": [
      "d1    678\n",
      "d2    578\n",
      "d3    789\n",
      "dtype: int64\n"
     ]
    }
   ],
   "source": [
    "import pandas as pd\n",
    "calorie={\"d1\":678,\"d2\":578,\"d3\":789}\n",
    "myvar=pd.Series(calorie)\n",
    "print(myvar)"
   ]
  },
  {
   "cell_type": "code",
   "execution_count": 10,
   "id": "6171efcb-210d-4a9b-a9e6-8b39dc4aacb8",
   "metadata": {},
   "outputs": [
    {
     "name": "stdout",
     "output_type": "stream",
     "text": [
      "     sepal length  sepal width  petal length  petal width    species\n",
      "0             5.1          3.5           1.4          0.2     setosa\n",
      "1             4.9          3.0           1.4          0.2     setosa\n",
      "2             4.7          3.2           1.3          0.2     setosa\n",
      "3             4.6          3.1           1.5          0.2     setosa\n",
      "4             5.0          3.6           1.4          0.2     setosa\n",
      "..            ...          ...           ...          ...        ...\n",
      "145           6.7          3.0           5.2          2.3  virginica\n",
      "146           6.3          2.5           5.0          1.9  virginica\n",
      "147           6.5          3.0           5.2          2.0  virginica\n",
      "148           6.2          3.4           5.4          2.3  virginica\n",
      "149           5.9          3.0           5.1          1.8  virginica\n",
      "\n",
      "[150 rows x 5 columns]\n"
     ]
    }
   ],
   "source": [
    "import pandas as pd\n",
    "#url=\"https://raw.githubusercontent.com/cs109/2014_data/master/countries.csv\"\n",
    "url=\"https://raw.githubusercontent.com/vizydrop/data-samples/master/flowers.csv\"\n",
    "df=pd.read_csv(url)\n",
    "print(df)"
   ]
  },
  {
   "cell_type": "markdown",
   "id": "d5ed46d5-caf9-432f-87f5-fbcd52bbe037",
   "metadata": {},
   "source": [
    "# counting pattern"
   ]
  },
  {
   "cell_type": "code",
   "execution_count": 26,
   "id": "2b156bce-9885-4681-8bdb-bc1fa76aca2c",
   "metadata": {},
   "outputs": [
    {
     "name": "stdout",
     "output_type": "stream",
     "text": [
      "enter a line of text:\n"
     ]
    },
    {
     "name": "stdin",
     "output_type": "stream",
     "text": [
      " bfv 65 and somthing came up 234\n"
     ]
    },
    {
     "name": "stdout",
     "output_type": "stream",
     "text": [
      "words: ['bfv', '65', 'and', 'somthing', 'came', 'up', '234']\n",
      "counting...\n",
      "counts {'bfv': 1, '65': 1, 'and': 1, 'somthing': 1, 'came': 1, 'up': 1, '234': 1}\n"
     ]
    }
   ],
   "source": [
    "counts=dict()\n",
    "print('enter a line of text:')\n",
    "line=input('')\n",
    "words=line.split()\n",
    "print('words:',words)\n",
    "\n",
    "print('counting...')\n",
    "for word in words:\n",
    " counts[word]=counts.get(word,0)+1\n",
    "print('counts',counts)"
   ]
  },
  {
   "cell_type": "markdown",
   "id": "99a85af1-92ab-49fd-86b9-153da5020a20",
   "metadata": {},
   "source": [
    "counts=dict()\n",
    "print('enter a line of text:')\n",
    "line=input('')\n",
    "words=line.split()\n",
    "print('words:',words)\n",
    "\n",
    "print('o line')\n",
    "for word in words:\n",
    " counts[word]=counts.get(word,0)+1 \n",
    "\n",
    "print('added',add_re)\n",
    "print('line',concat_te)\n"
   ]
  },
  {
   "cell_type": "code",
   "execution_count": null,
   "id": "c562fa60-fb62-46d7-8b7d-f03cafb725f7",
   "metadata": {},
   "outputs": [],
   "source": []
  },
  {
   "cell_type": "code",
   "execution_count": 8,
   "id": "a67c6c5d-e236-41a7-9aa5-71f155a3e8e8",
   "metadata": {},
   "outputs": [
    {
     "name": "stdout",
     "output_type": "stream",
     "text": [
      "enter a line of text:\n"
     ]
    },
    {
     "name": "stdin",
     "output_type": "stream",
     "text": [
      " naB&\n"
     ]
    },
    {
     "name": "stdout",
     "output_type": "stream",
     "text": [
      "words: ['naB&']\n",
      "o line\n",
      "counts {'naB&': 1}\n",
      "concatination:  \n",
      "additions: 0\n",
      "Special characters not present.\n"
     ]
    }
   ],
   "source": [
    "counts=dict()\n",
    "print('enter a line of text:')\n",
    "line=input('')\n",
    "words=line.split()\n",
    "print('words:',words)\n",
    "\n",
    "print('o line')\n",
    "for word in words:\n",
    " counts[word]=counts.get(word,0)+1\n",
    "print('counts',counts)\n",
    "concat_re=('')\n",
    "add = 0\n",
    "for word in words: \n",
    "    try: \n",
    "        re = int(word)\n",
    "        add = add + int(word)\n",
    "        concat_re+=word\n",
    "    except: \n",
    "        pass\n",
    "print('concatination: ',concat_re)\n",
    "print('additions:',add)\n",
    "\n",
    "special_chars = ['!', '@', '#', '$', '%', '^', '&']\n",
    "special_found = False\n",
    "\n",
    "for word in words:\n",
    "    if word in special_chars:\n",
    "        special_found = True\n",
    "        break\n",
    "\n",
    "if special_found:\n",
    "\n",
    "    print(\"special characters present.\")\n",
    "else:\n",
    "    print(\"Special characters not present.\")\n",
    "        "
   ]
  },
  {
   "cell_type": "code",
   "execution_count": 4,
   "id": "9858f4da-5040-44ce-8eff-04abb1691695",
   "metadata": {},
   "outputs": [
    {
     "name": "stdout",
     "output_type": "stream",
     "text": [
      "enter a line of text:\n"
     ]
    },
    {
     "name": "stdin",
     "output_type": "stream",
     "text": [
      " nabo 23 & dn 32\n"
     ]
    },
    {
     "name": "stdout",
     "output_type": "stream",
     "text": [
      "words: ['nabo', '23', '&', 'dn', '32']\n",
      "o line\n",
      "counts {'nabo': 1, '23': 1, '&': 1, 'dn': 1, '32': 1}\n",
      "Special characters not present.\n",
      "concatination:  2332\n",
      "additions: 55\n"
     ]
    }
   ],
   "source": [
    "counts=dict()\n",
    "print('enter a line of text:')\n",
    "line=input('')\n",
    "words=line.split()\n",
    "print('words:',words)\n",
    "\n",
    "print('o line')\n",
    "for word in words:\n",
    " counts[word]=counts.get(word,0)+1\n",
    "print('counts',counts)\n",
    "special_chars = ['!', '@', '#', '$', '%', '^', '&']\n",
    "special_found = False\n",
    "\n",
    "if special_found:\n",
    "    print(\"special characters present.\")\n",
    "else:\n",
    "    print(\"Special characters not present.\")\n",
    "\n",
    "for word in words:\n",
    "    if word in special_chars:\n",
    "        special_found = True\n",
    "        break\n",
    "concat_re=('')\n",
    "add = 0\n",
    "for word in words: \n",
    "    try: \n",
    "        re = int(word)\n",
    "        add = add + int(word)\n",
    "        concat_re+=word\n",
    "    except:\n",
    "        pass\n",
    "print('concatination: ',concat_re)\n",
    "print('additions:',add)"
   ]
  },
  {
   "cell_type": "markdown",
   "id": "2d35894c-72e4-4f7e-9500-e8114f86a111",
   "metadata": {},
   "source": [
    "# dic of list(dirty data)"
   ]
  },
  {
   "cell_type": "code",
   "execution_count": 6,
   "id": "92f09cde-cc95-470d-adc8-42f39c1c2479",
   "metadata": {},
   "outputs": [
    {
     "name": "stdout",
     "output_type": "stream",
     "text": [
      "{'first score': [100, 12, nan, 78], 'second': [nan, 20, 28, nan], 'thrid': [90, 83, nan, 72]}\n",
      "   first score  second  thrid\n",
      "0        100.0     NaN   90.0\n",
      "1         12.0    20.0   83.0\n",
      "2          NaN    28.0    NaN\n",
      "3         78.0     NaN   72.0\n",
      "   first score  second  thrid\n",
      "0        False    True  False\n",
      "1        False   False  False\n",
      "2         True   False   True\n",
      "3        False    True  False\n",
      "   first score  second  thrid\n",
      "0         True   False   True\n",
      "1         True    True   True\n",
      "2        False    True  False\n",
      "3         True   False   True\n"
     ]
    }
   ],
   "source": [
    "import pandas as pd \n",
    "import numpy as np\n",
    "dict={'first score':[100,12,np.nan,78],\n",
    "      'second':[np.nan,20,28,np.nan],\n",
    "      'thrid':[90,83,np.nan,72]}\n",
    "print(dict)\n",
    "df=pd.DataFrame(dict)\n",
    "print(df.to_string())\n",
    "print(df.isnull())\n",
    "print(df.notnull())"
   ]
  },
  {
   "cell_type": "code",
   "execution_count": 10,
   "id": "4ebfb552-75a4-4b3a-83b3-975438c15804",
   "metadata": {},
   "outputs": [
    {
     "name": "stdout",
     "output_type": "stream",
     "text": [
      "{'first score': [100, 12, nan, 78], 'second': [nan, 20, 28, nan], 'thrid': [90, 83, nan, 72]}\n",
      "   first score  second  thrid\n",
      "0        100.0     NaN   90.0\n",
      "1         12.0    20.0   83.0\n",
      "2          NaN    28.0    NaN\n",
      "3         78.0     NaN   72.0\n",
      "   first score  second  thrid\n",
      "0        False    True  False\n",
      "1        False   False  False\n",
      "2         True   False   True\n",
      "3        False    True  False\n",
      "   first score  second  thrid\n",
      "0         True   False   True\n",
      "1         True    True   True\n",
      "2        False    True  False\n",
      "3         True   False   True\n"
     ]
    },
    {
     "ename": "TypeError",
     "evalue": "NDFrame.ffill() got an unexpected keyword argument 'method'",
     "output_type": "error",
     "traceback": [
      "\u001b[31m---------------------------------------------------------------------------\u001b[39m",
      "\u001b[31mTypeError\u001b[39m                                 Traceback (most recent call last)",
      "\u001b[36mCell\u001b[39m\u001b[36m \u001b[39m\u001b[32mIn[10]\u001b[39m\u001b[32m, line 11\u001b[39m\n\u001b[32m      9\u001b[39m \u001b[38;5;28mprint\u001b[39m(df.isnull())\n\u001b[32m     10\u001b[39m \u001b[38;5;28mprint\u001b[39m(df.notnull())\n\u001b[32m---> \u001b[39m\u001b[32m11\u001b[39m \u001b[38;5;28mprint\u001b[39m(\u001b[43mdf\u001b[49m\u001b[43m.\u001b[49m\u001b[43mffill\u001b[49m\u001b[43m(\u001b[49m\u001b[43mmethod\u001b[49m\u001b[43m=\u001b[49m\u001b[33;43m'\u001b[39;49m\u001b[33;43mpad\u001b[39;49m\u001b[33;43m'\u001b[39;49m\u001b[43m)\u001b[49m)\n",
      "\u001b[31mTypeError\u001b[39m: NDFrame.ffill() got an unexpected keyword argument 'method'"
     ]
    }
   ],
   "source": [
    "import pandas as pd \n",
    "import numpy as np\n",
    "dict={'first score':[100,12,np.nan,78],\n",
    "      'second':[np.nan,20,28,np.nan],\n",
    "      'thrid':[90,83,np.nan,72]}\n",
    "print(dict)\n",
    "df=pd.DataFrame(dict)\n",
    "print(df.to_string())\n",
    "print(df.isnull())\n",
    "print(df.notnull())\n",
    "print(df.fillna(method='pad'))\n",
    "print(df."
   ]
  },
  {
   "cell_type": "code",
   "execution_count": 12,
   "id": "26893c96-0be3-49e3-8f4f-faef29bc057a",
   "metadata": {},
   "outputs": [
    {
     "name": "stdout",
     "output_type": "stream",
     "text": [
      "{'first score': [100, 12, nan, 78], 'second': [nan, 20, 28, nan], 'thrid': [90, 83, nan, 72]}\n",
      "   first score  second  thrid\n",
      "0        100.0     NaN   90.0\n",
      "1         12.0    20.0   83.0\n",
      "2          NaN    28.0    NaN\n",
      "3         78.0     NaN   72.0\n",
      "   first score  second  thrid\n",
      "0        False    True  False\n",
      "1        False   False  False\n",
      "2         True   False   True\n",
      "3        False    True  False\n",
      "   first score  second  thrid\n",
      "0         True   False   True\n",
      "1         True    True   True\n",
      "2        False    True  False\n",
      "3         True   False   True\n",
      "first score    63.333333\n",
      "second         24.000000\n",
      "thrid          81.666667\n",
      "dtype: float64\n",
      "   first score  second      thrid\n",
      "0   100.000000    24.0  90.000000\n",
      "1    12.000000    20.0  83.000000\n",
      "2    63.333333    28.0  81.666667\n",
      "3    78.000000    24.0  72.000000\n"
     ]
    },
    {
     "data": {
      "text/html": [
       "<div>\n",
       "<style scoped>\n",
       "    .dataframe tbody tr th:only-of-type {\n",
       "        vertical-align: middle;\n",
       "    }\n",
       "\n",
       "    .dataframe tbody tr th {\n",
       "        vertical-align: top;\n",
       "    }\n",
       "\n",
       "    .dataframe thead th {\n",
       "        text-align: right;\n",
       "    }\n",
       "</style>\n",
       "<table border=\"1\" class=\"dataframe\">\n",
       "  <thead>\n",
       "    <tr style=\"text-align: right;\">\n",
       "      <th></th>\n",
       "      <th>first score</th>\n",
       "      <th>second</th>\n",
       "      <th>thrid</th>\n",
       "    </tr>\n",
       "  </thead>\n",
       "  <tbody>\n",
       "    <tr>\n",
       "      <th>0</th>\n",
       "      <td>100.0</td>\n",
       "      <td>NaN</td>\n",
       "      <td>90.0</td>\n",
       "    </tr>\n",
       "    <tr>\n",
       "      <th>1</th>\n",
       "      <td>12.0</td>\n",
       "      <td>20.0</td>\n",
       "      <td>83.0</td>\n",
       "    </tr>\n",
       "    <tr>\n",
       "      <th>2</th>\n",
       "      <td>NaN</td>\n",
       "      <td>28.0</td>\n",
       "      <td>NaN</td>\n",
       "    </tr>\n",
       "    <tr>\n",
       "      <th>3</th>\n",
       "      <td>78.0</td>\n",
       "      <td>NaN</td>\n",
       "      <td>72.0</td>\n",
       "    </tr>\n",
       "  </tbody>\n",
       "</table>\n",
       "</div>"
      ],
      "text/plain": [
       "   first score  second  thrid\n",
       "0        100.0     NaN   90.0\n",
       "1         12.0    20.0   83.0\n",
       "2          NaN    28.0    NaN\n",
       "3         78.0     NaN   72.0"
      ]
     },
     "execution_count": 12,
     "metadata": {},
     "output_type": "execute_result"
    }
   ],
   "source": [
    "import pandas as pd \n",
    "import numpy as np\n",
    "dict={'first score':[100,12,np.nan,78],\n",
    "      'second':[np.nan,20,28,np.nan],\n",
    "      'thrid':[90,83,np.nan,72]}\n",
    "print(dict)\n",
    "df=pd.DataFrame(dict)\n",
    "print(df.to_string())\n",
    "print(df.isnull())\n",
    "print(df.notnull())\n",
    "df_mean=df.mean()\n",
    "print(df_mean)\n",
    "data_new=df.fillna(df.mean())\n",
    "print(data_new)\n",
    "df.dropna(how='all')"
   ]
  },
  {
   "cell_type": "markdown",
   "id": "d2514bef-26bf-4301-b9ea-e81fd394c376",
   "metadata": {},
   "source": [
    "# functions\n"
   ]
  },
  {
   "cell_type": "code",
   "execution_count": 3,
   "id": "3a0d9f37-d028-4156-a172-b05ec76aff6c",
   "metadata": {},
   "outputs": [
    {
     "name": "stdout",
     "output_type": "stream",
     "text": [
      "hello,world\n"
     ]
    }
   ],
   "source": [
    "def say_hello():\n",
    "    print(\"hello,world\")\n",
    "say_hello()"
   ]
  },
  {
   "cell_type": "code",
   "execution_count": 4,
   "id": "403b35ee-dd06-4415-8259-704ef24cd005",
   "metadata": {},
   "outputs": [
    {
     "name": "stdout",
     "output_type": "stream",
     "text": [
      "sum: 9\n"
     ]
    }
   ],
   "source": [
    "def add(a,b):\n",
    "    return a+b\n",
    "result=add(1,8)\n",
    "print(\"sum:\",result)"
   ]
  },
  {
   "cell_type": "code",
   "execution_count": 6,
   "id": "d1096743-a9dc-4148-80e1-8785f61470f0",
   "metadata": {},
   "outputs": [
    {
     "name": "stdout",
     "output_type": "stream",
     "text": [
      "hello,dev!\n"
     ]
    }
   ],
   "source": [
    "def greet(name):\n",
    "    print(\"hello,\"+ name +\"!\")\n",
    "\n",
    "greet(\"dev\")"
   ]
  },
  {
   "cell_type": "code",
   "execution_count": 7,
   "id": "7e2ff7be-02d5-43c5-9917-2623a51598f9",
   "metadata": {},
   "outputs": [
    {
     "name": "stdout",
     "output_type": "stream",
     "text": [
      "True\n",
      "False\n"
     ]
    }
   ],
   "source": [
    "def is_even(num):\n",
    "    if num % 2==0:\n",
    "        return True\n",
    "    else:\n",
    "        return False\n",
    "print(is_even(4))\n",
    "print(is_even(5))"
   ]
  },
  {
   "cell_type": "code",
   "execution_count": 9,
   "id": "2610c1ae-e2cb-45b8-87c9-d2dc077a2fe0",
   "metadata": {},
   "outputs": [
    {
     "name": "stdout",
     "output_type": "stream",
     "text": [
      "25\n"
     ]
    }
   ],
   "source": [
    "def find_max(a,b,c):\n",
    "     return max(a,b,c)\n",
    "print(find_max(10,25,15))"
   ]
  },
  {
   "cell_type": "code",
   "execution_count": 15,
   "id": "5b01b627-9209-4f09-a968-1786c67c80a8",
   "metadata": {},
   "outputs": [
    {
     "name": "stdin",
     "output_type": "stream",
     "text": [
      "guest the num between 1 and 10 8\n"
     ]
    },
    {
     "name": "stdout",
     "output_type": "stream",
     "text": [
      "correct\n"
     ]
    }
   ],
   "source": [
    "import random\n",
    "def guess():\n",
    "    num=random.randint(1,10)\n",
    "    guess=int(input(\"guest the num between 1 and 10\"))\n",
    "\n",
    "    if guess==num:\n",
    "        print(\"correct\")\n",
    "    else:\n",
    "        print(\"wrong\")\n",
    "guess()\n",
    "while True:\n",
    "    "
   ]
  },
  {
   "cell_type": "code",
   "execution_count": null,
   "id": "93785d56-fe9d-478b-9339-6f958ed0b113",
   "metadata": {},
   "outputs": [
    {
     "name": "stdin",
     "output_type": "stream",
     "text": [
      "press enter to roll again 2\n",
      "press entwr to roll  \n"
     ]
    },
    {
     "name": "stdout",
     "output_type": "stream",
     "text": [
      "rolled: None\n"
     ]
    },
    {
     "name": "stdin",
     "output_type": "stream",
     "text": [
      "roll again?(y/n): y\n",
      "press enter to roll again 2\n",
      "press entwr to roll  2\n"
     ]
    },
    {
     "name": "stdout",
     "output_type": "stream",
     "text": [
      "rolled: None\n"
     ]
    }
   ],
   "source": [
    "import random\n",
    "def dice():\n",
    "    input(\"press entwr to roll \")\n",
    "    dice=random.randint(1,6)\n",
    "    print(f\"dice rol {dice}\")\n",
    "while True:\n",
    "    input(\"press enter to roll again\")\n",
    "    print(\"rolled:\",dice())\n",
    "    again=input(\"roll again?(y/n):\")\n",
    "    if again.lower()!='y':\n",
    "        break"
   ]
  },
  {
   "cell_type": "code",
   "execution_count": null,
   "id": "bf11d372-a2ca-4741-9866-edc69c3d322f",
   "metadata": {},
   "outputs": [],
   "source": []
  }
 ],
 "metadata": {
  "kernelspec": {
   "display_name": "Python 3 (ipykernel)",
   "language": "python",
   "name": "python3"
  },
  "language_info": {
   "codemirror_mode": {
    "name": "ipython",
    "version": 3
   },
   "file_extension": ".py",
   "mimetype": "text/x-python",
   "name": "python",
   "nbconvert_exporter": "python",
   "pygments_lexer": "ipython3",
   "version": "3.13.5"
  }
 },
 "nbformat": 4,
 "nbformat_minor": 5
}
