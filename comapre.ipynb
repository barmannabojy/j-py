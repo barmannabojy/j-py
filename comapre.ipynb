{
 "cells": [
  {
   "cell_type": "code",
   "execution_count": 1,
   "id": "9bf9dbaf-62fb-4558-9381-9b6a8130f86c",
   "metadata": {},
   "outputs": [
    {
     "name": "stdout",
     "output_type": "stream",
     "text": [
      "elephant is the largest mammal on land\n",
      "whale is the largest mammal in water\n",
      "Similar words found: {'is', 'mammal', 'largest', 'the'}\n",
      "Total number of similar words: 4\n"
     ]
    }
   ],
   "source": [
    "with open('file1.txt', 'r') as file1, open('file2.txt', 'r') as file2:\n",
    "    # Read and split into words (case-insensitive)\n",
    "    words1 = file1.read().lower().split()\n",
    "    words2 = file2.read().lower().split()\n",
    "\n",
    "set1 = set(words1)\n",
    "set2 = set(words2)\n",
    "\n",
    "common_words = set1 & set2\n",
    "one = open('file1.txt')\n",
    "two = open('file2.txt')\n",
    "for line in one:\n",
    "    print(line)\n",
    "for line in two:\n",
    "    print(line)\n",
    "print(\"Similar words found:\", common_words)\n",
    "print(\"Total number of similar words:\", len(common_words))"
   ]
  },
  {
   "cell_type": "code",
   "execution_count": null,
   "id": "ee9da7c4-2d56-4345-b953-336b23f984dd",
   "metadata": {},
   "outputs": [],
   "source": []
  }
 ],
 "metadata": {
  "kernelspec": {
   "display_name": "Python 3 (ipykernel)",
   "language": "python",
   "name": "python3"
  },
  "language_info": {
   "codemirror_mode": {
    "name": "ipython",
    "version": 3
   },
   "file_extension": ".py",
   "mimetype": "text/x-python",
   "name": "python",
   "nbconvert_exporter": "python",
   "pygments_lexer": "ipython3",
   "version": "3.13.5"
  }
 },
 "nbformat": 4,
 "nbformat_minor": 5
}
