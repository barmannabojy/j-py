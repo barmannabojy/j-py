{
 "cells": [
  {
   "cell_type": "code",
   "execution_count": null,
   "id": "ba9467aa-e474-4ad3-8e35-77e7671c43bb",
   "metadata": {},
   "outputs": [],
   "source": [
    "import tkinter as tk\n",
    "import random\n",
    "\n",
    "def roll_dice():\n",
    "    dice_val = random.randint(1, 6)\n",
    "    dice_label.config(text=dice_unicode[dice_val])\n",
    "    label_result.config(text=f\"You rolled: {dice_val}\")\n",
    "\n",
    "# Unicode characters for dice faces\n",
    "dice_unicode = {\n",
    "    1: \"\\u2680\",  # ⚀\n",
    "    2: \"\\u2681\",  # ⚁\n",
    "    3: \"\\u2682\",  # ⚂\n",
    "    4: \"\\u2683\",  # ⚃\n",
    "    5: \"\\u2684\",  # ⚄\n",
    "    6: \"\\u2685\"   # ⚅\n",
    "}\n",
    "\n",
    "# Create the main window\n",
    "root = tk.Tk()\n",
    "root.title(\"Roll a Dice\")\n",
    "root.geometry(\"500x500\")\n",
    "\n",
    "# Dice face label\n",
    "dice_label = tk.Label(root, text=\"\\u2680\", font=(\"Helvetica\", 100))\n",
    "dice_label.pack(pady=10)\n",
    "\n",
    "# Result label\n",
    "label_result = tk.Label(root, text=\"Click below to roll the dice\", font=(\"Helvetica\", 14))\n",
    "label_result.pack(pady=10)\n",
    "\n",
    "# Roll button\n",
    "dice_button = tk.Button(root, text=\"ROLL THE DICE\", command=roll_dice, font=(\"Helvetica\", 12))\n",
    "dice_button.pack(pady=10)\n",
    "\n",
    "# Start the GUI loop\n",
    "root.mainloop()"
   ]
  },
  {
   "cell_type": "code",
   "execution_count": null,
   "id": "5f591829-276b-4bb3-ac48-3cb580fc1804",
   "metadata": {},
   "outputs": [],
   "source": []
  }
 ],
 "metadata": {
  "kernelspec": {
   "display_name": "Python 3 (ipykernel)",
   "language": "python",
   "name": "python3"
  },
  "language_info": {
   "codemirror_mode": {
    "name": "ipython",
    "version": 3
   },
   "file_extension": ".py",
   "mimetype": "text/x-python",
   "name": "python",
   "nbconvert_exporter": "python",
   "pygments_lexer": "ipython3",
   "version": "3.13.5"
  }
 },
 "nbformat": 4,
 "nbformat_minor": 5
}
